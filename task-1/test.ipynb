{
 "cells": [
  {
   "cell_type": "code",
   "execution_count": null,
   "id": "f4d3c672",
   "metadata": {},
   "outputs": [],
   "source": [
    "import fitz\n",
    "from langchain_community.document_loaders import PyMuPDFLoader\n",
    "from langchain_community.document_loaders.parsers import RapidOCRBlobParser\n",
    "import pandas as pd\n",
    "import re\n",
    "\n",
    "file_path = \"./docs/sent-analysis.pdf\"\n",
    "\n",
    "#open the pdf in a loader as langchain.docuemnt object\n",
    "loader = PyMuPDFLoader(file_path,\n",
    "    mode=\"single\",\n",
    "    images_inner_format=\"markdown-img\",\n",
    "    images_parser=RapidOCRBlobParser(),\n",
    "    extract_tables=\"csv\"\n",
    ")\n",
    "\n",
    "docs = loader.load()\n",
    "\n",
    "#copy contents to clean\n",
    "text = docs[0].page_content\n",
    "\n",
    "text = re.sub(r'\\s+', ' ', text)    #remove multiple spaces\n",
    "text = re.sub(r'http\\S+|www\\S+', '', text)  #remove links\n",
    "text = text.replace('\\n', ' ').replace('\\t', ' ')   #removes line breaks and tabs"
   ]
  },
  {
   "cell_type": "code",
   "execution_count": null,
   "id": "3688508e",
   "metadata": {},
   "outputs": [
    {
     "name": "stdout",
     "output_type": "stream",
     "text": [
      "[['Epoch', 'Train Loss', 'Train AUC', 'Test Loss', 'Test AUC'], ['414', '0.274383', '0.954070', '0.283045', '0.958663'], ['415', '0.280170', '0.952098', '0.283048', '0.958663'], ['416', '0.279494', '0.952490', '0.283052', '0.958663'], ['417', '0.277347', '0.953116', '0.283056', '0.958663'], ['418', '0.278657', '0.952766', '0.283057', '0.958663']]\n"
     ]
    }
   ],
   "source": [
    "doc = fitz.open(file_path)\n",
    "for page in doc:\n",
    "    tables = page.find_tables()\n",
    "    if tables.tables:\n",
    "        print(tables[0].extract())"
   ]
  },
  {
   "cell_type": "code",
   "execution_count": 1,
   "id": "4670ec66",
   "metadata": {},
   "outputs": [
    {
     "data": {
      "text/plain": [
       "76408"
      ]
     },
     "execution_count": 1,
     "metadata": {},
     "output_type": "execute_result"
    }
   ],
   "source": [
    "import pymupdf4llm\n",
    "\n",
    "md_text = pymupdf4llm.to_markdown(\"../input-docs/rag-study.pdf\")\n",
    "\n",
    "# now work with the markdown text, e.g. store as a UTF8-encoded file\n",
    "import pathlib\n",
    "pathlib.Path(\"output.md\").write_bytes(md_text.encode())"
   ]
  },
  {
   "cell_type": "code",
   "execution_count": null,
   "id": "050cb02d",
   "metadata": {},
   "outputs": [],
   "source": [
    "    "
   ]
  }
 ],
 "metadata": {
  "kernelspec": {
   "display_name": "venv",
   "language": "python",
   "name": "python3"
  },
  "language_info": {
   "codemirror_mode": {
    "name": "ipython",
    "version": 3
   },
   "file_extension": ".py",
   "mimetype": "text/x-python",
   "name": "python",
   "nbconvert_exporter": "python",
   "pygments_lexer": "ipython3",
   "version": "3.11.0"
  }
 },
 "nbformat": 4,
 "nbformat_minor": 5
}
